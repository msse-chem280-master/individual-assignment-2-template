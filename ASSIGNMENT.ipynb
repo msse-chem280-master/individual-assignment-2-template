{
 "cells": [
  {
   "cell_type": "markdown",
   "metadata": {},
   "source": [
    "# Comparison to Experimental Data\n",
    "\n",
    "For this assignment, you will be converting the reduced units reported by NIST to real units. We will then be comparing the predicted values from a Monte Carlo simulation to real values for Argon. This will give us an idea of the accuracy of our simulations.\n",
    "\n",
    "Recall that we are using reduced units in our simulations. You can find the reduced unit expression for several values in the table below.\n",
    "\n",
    "Quantity    | Expression\n",
    "------------|------------\n",
    "Length      | $$L^*=L / \\sigma$$\n",
    "Density     | $$\\rho^* = N \\sigma^3 / V$$\n",
    "Energy      | $$U^* = U / \\epsilon$$\n",
    "Pressure    | $$P^* = P \\sigma^3 / \\epsilon$$\n",
    "Volume      | $$V^* = V / \\sigma^3 $$\n",
    "Temperature | $$T^* = k_{B} T / \\epsilon $$\n",
    "Time        | $$t^* = t \\sqrt{\\frac{\\epsilon}{ m \\sigma^2}}$$\n",
    "\n",
    "In this exercise, you will be taking data the average reduced pressure $p^*$ and density ($\\rho^*$) from the NSF [reported isotherms for the Lennard Jones fluid](https://mmlapps.nist.gov/srs/LJ_PURE/mc.htm) and converting them to real values using $\\sigma$ and $\\epsilon$ for Argon. The values reported in this table and in the provided file have been normalized by the number of particles in the system, $N$. You will then compare this isotherm calculated from simulation to one also reported by NIST based on experimental data for a temperature of 108 K. \n",
    "\n",
    "You will need to convert the reported pressure $p^*$ and density ($\\rho^*$) from the NIST computational values to real values. \n",
    "\n",
    "This data has been retrieved for you and put in `csv` files in this directory.\n",
    "\n",
    "The file `nist_data.csv` has data isotherms calculated by a Monte Carlo simulation of a Lennard Jones fluid at two different temperatures. An isotherm means that all measurements are taken for the same temperature. \n",
    "\n",
    "The file `nist_tabulated_argon.csv` has tabulated data for Argon at T = 108 K.\n",
    "\n",
    "For Argon,\n",
    "\n",
    "$$ \\sigma = 3.4 Å$$\n",
    "$$ \\epsilon / k_B = 120 K $$"
   ]
  },
  {
   "cell_type": "markdown",
   "metadata": {},
   "source": [
    "# Reading Data from Files\n",
    "\n",
    "The two cells below demonstrate parsing a csv (comma separated value) file using the `csv` module in python, part of the Python Standard Library."
   ]
  },
  {
   "cell_type": "code",
   "execution_count": null,
   "metadata": {},
   "outputs": [],
   "source": [
    "import csv"
   ]
  },
  {
   "cell_type": "code",
   "execution_count": null,
   "metadata": {},
   "outputs": [],
   "source": [
    "reduced_temperature = []\n",
    "reduced_pressure = []\n",
    "reduced_density = []\n",
    "\n",
    "with open('nist_data.csv') as f:\n",
    "    reader = csv.reader(f)\n",
    "    \n",
    "    for count, row in enumerate(reader):\n",
    "        if count > 0:\n",
    "            reduced_temperature.append(float(row[0]))\n",
    "            reduced_density.append(float(row[1]))\n",
    "            reduced_pressure.append(float(row[4]))"
   ]
  },
  {
   "cell_type": "markdown",
   "metadata": {},
   "source": [
    "## Experimental Data - File Parsing\n",
    "\n",
    "Write code to parse the file 'nist_experimental_argon.csv' to get the temperature, pressure, and density values from the file using the csv module."
   ]
  },
  {
   "cell_type": "code",
   "execution_count": null,
   "metadata": {},
   "outputs": [],
   "source": [
    "# Write your code here to get temperature, pressure, and density data from the file.\n",
    "\n"
   ]
  },
  {
   "cell_type": "markdown",
   "metadata": {},
   "source": [
    "# Unit Conversion\n",
    "\n",
    "You will now need to convert your reduced temperature, reduced pressure, and reduced density into real values.\n",
    "\n",
    "Quantity    | Expression\n",
    "------------|------------\n",
    "Pressure    | $$P^* = P \\sigma^3 / \\epsilon$$\n",
    "Temperature | $$T^* = k_{B} T / \\epsilon $$\n",
    "Density     | $$\\rho^* = N \\sigma^3 / V$$\n",
    "\n",
    "You'll need to rearrange the expressions (probably using pencil and paper) $P^*$, $T^*$, and $\\rho^*$ to get expressions for $P$, $T$, and $\\rho$.\n",
    "\n"
   ]
  },
  {
   "cell_type": "markdown",
   "metadata": {},
   "source": [
    "Use the docstring defined below to write a function to convert reduced pressure to its real value. Modify the docstring so that it expressed the unit the pressure will be in.\n"
   ]
  },
  {
   "cell_type": "code",
   "execution_count": null,
   "metadata": {},
   "outputs": [],
   "source": [
    "def reduced_pressure_to_real(reduced_value, sigma, epsilon):\n",
    "    \"\"\"\n",
    "    Convert a reduced pressure to a real value based on sigma and epsilon.\n",
    "    \n",
    "    Parameters\n",
    "    ----------\n",
    "    reduced_value : float\n",
    "        The reduced pressure\n",
    "    \n",
    "    sigma : float\n",
    "        The sigma value in SI units (meters)\n",
    "    \n",
    "    epsilon : float\n",
    "        The epsilon value in SI units (joules)\n",
    "    \n",
    "    Returns\n",
    "    -------\n",
    "    float\n",
    "        The pressure value in real units.\n",
    "    \"\"\"\n",
    "    "
   ]
  },
  {
   "cell_type": "markdown",
   "metadata": {},
   "source": [
    "Write at least one test case for your function. Write what the expected output is in a comment and use `assert` to test that the calculated values is the same as the expected value."
   ]
  },
  {
   "cell_type": "code",
   "execution_count": null,
   "metadata": {},
   "outputs": [],
   "source": []
  },
  {
   "cell_type": "markdown",
   "metadata": {},
   "source": [
    "Write a function to convert reduced temperature to real temperature.\n",
    "\n",
    "Consider that\n",
    "\n",
    "\n",
    " $$T^* = k_{B} T / \\epsilon $$\n",
    " \n",
    " \n",
    " and \n",
    " \n",
    " $$ \\epsilon / k_B = 120 K $$\n",
    "\n"
   ]
  },
  {
   "cell_type": "code",
   "execution_count": null,
   "metadata": {},
   "outputs": [],
   "source": [
    "def reduced_temperature_to_real(reduced_value, epsilon):\n",
    "    \"\"\"\n",
    "    Convert a reduced temperature to a real value based on epsilon\n",
    "    \n",
    "    Parameters\n",
    "    ----------\n",
    "    reduced_value : float\n",
    "        The reduced temperature\n",
    "    \n",
    "    epsilon : float\n",
    "        The value for epsilon  \n",
    "        \n",
    "    Returns\n",
    "    -------\n",
    "    float\n",
    "        The system temperature in K\n",
    "    \"\"\"\n",
    "    "
   ]
  },
  {
   "cell_type": "markdown",
   "metadata": {},
   "source": [
    "Write at least one test case for your function. Write what the expected output is in a comment and use `assert` to test that the calculated values is the same as the expected value."
   ]
  },
  {
   "cell_type": "code",
   "execution_count": null,
   "metadata": {},
   "outputs": [],
   "source": []
  },
  {
   "cell_type": "markdown",
   "metadata": {},
   "source": [
    "Calculation of the density will take some extra consideration of units. Note that $N/V$ in the expression for the reduced density is the number density of the system.\n",
    "\n",
    " $$\\rho^* = N \\sigma^3 / V$$\n",
    "\n",
    "\n",
    "$$\\rho^* = \\rho_N \\sigma^3 $$\n",
    "\n",
    "For comparison to experimental values, you will need the density in units of mol/L. A number density $\\rho_N$ can be converted to units of number per volume to mol per volume by dividing the number density by Avogadros number. If you are not a chemist, Avogadro's number is the number of molecules in a [mole](https://en.wikipedia.org/wiki/Mole_(unit)) and is equal to $6.022 x 10^{23}$. A mole is the number of carbom atoms in 12 grams of carbon-12. \n",
    "\n",
    "$$\\rho^* = \\rho_N \\sigma^3 $$\n",
    "\n",
    "$$ \\rho = \\frac {\\rho_N} {N_A} $$\n",
    "\n",
    "Use these equations to get an expression for calculating $\\rho$ from the reduced density, $\\rho^*$\n"
   ]
  },
  {
   "cell_type": "code",
   "execution_count": null,
   "metadata": {},
   "outputs": [],
   "source": [
    "def reduced_density_to_real(reduced_value, sigma):\n",
    "    \"\"\"\n",
    "    Convert a reduced density to a real density.\n",
    "    \n",
    "    Parameters\n",
    "    ----------\n",
    "    reduced_value : float\n",
    "        The reduced value for the density\n",
    "    \n",
    "    sigma : float\n",
    "        The value for sigma in meters\n",
    "        \n",
    "    Returns\n",
    "    -------\n",
    "    float\n",
    "        The density of the system in mol/L\n",
    "    \"\"\"\n",
    "    \n",
    "    "
   ]
  },
  {
   "cell_type": "markdown",
   "metadata": {},
   "source": [
    "# Value Conversion\n",
    "\n",
    "Use this cell to convert use the functions you have written to convert your reduced unit quantities to real units for the values read from the NIST file (`reduced_temperature`, `reduced_pressure`, `reduced_density`) save your converted values for plotting. "
   ]
  },
  {
   "cell_type": "code",
   "execution_count": null,
   "metadata": {},
   "outputs": [],
   "source": []
  },
  {
   "cell_type": "markdown",
   "metadata": {},
   "source": [
    "# Visualization\n",
    "\n",
    "Compare your calculated values with the experimental values you read from the file `nist_tabulated_argon.csv`. Create a plot showing `Density` vs `Pressure`. Plot the LJ values as markers `o` and the experimental values as a line on the same plot."
   ]
  },
  {
   "cell_type": "code",
   "execution_count": null,
   "metadata": {
    "scrolled": false
   },
   "outputs": [],
   "source": []
  },
  {
   "cell_type": "markdown",
   "metadata": {},
   "source": [
    "# Reflection\n",
    "\n",
    "Write two or three sentences reflecting on this plot. How accurate is the MC simulation?"
   ]
  },
  {
   "cell_type": "code",
   "execution_count": null,
   "metadata": {},
   "outputs": [],
   "source": []
  }
 ],
 "metadata": {
  "kernelspec": {
   "display_name": "Python 3 (ipykernel)",
   "language": "python",
   "name": "python3"
  },
  "language_info": {
   "codemirror_mode": {
    "name": "ipython",
    "version": 3
   },
   "file_extension": ".py",
   "mimetype": "text/x-python",
   "name": "python",
   "nbconvert_exporter": "python",
   "pygments_lexer": "ipython3",
   "version": "3.9.9"
  }
 },
 "nbformat": 4,
 "nbformat_minor": 4
}
